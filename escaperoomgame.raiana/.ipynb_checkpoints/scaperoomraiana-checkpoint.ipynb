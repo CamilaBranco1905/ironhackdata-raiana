{
 "cells": [
  {
   "cell_type": "code",
   "execution_count": 2,
   "metadata": {},
   "outputs": [],
   "source": [
    "#defines each item inside the room \n",
    "\n",
    "roomsname = [[\"First room\",\"Couch\", \"Piano\" ,\"Door A\"],[\"Second room\",\"Queen Bed\",\"Door A\",\"Door B\",\"Door C\"], [\"Third room\",\"Double Bed\", \"Dresser\", \"Door B\"],\n",
    "[\"Fourth room\",\"Dining Table\", \"Door C\", \"Door D\"],[\"outside\" , \"congrats\"]]\n",
    "\n",
    "index = {\"First room\": 0,\n",
    "        \"Second room\": 1,\n",
    "        \"Third room\": 2,\n",
    "        \"Fourth room\": 3,\n",
    "        \"outside\": 4}\n",
    "\n",
    "doors = {\n",
    "\"Door A\" : [False,roomsname[0][0],roomsname[1][0]],\n",
    "\"Door B\" : [False,roomsname[1][0],roomsname[2][0]],\n",
    "\"Door C\" : [False,roomsname[1][0],roomsname[3][0]],\n",
    "\"Door D\" : [False,roomsname[3][0],roomsname[4][0]],\n",
    "}\n",
    "\n",
    "\n",
    "itens= {\n",
    "\"Couch\" : [False,\"nothing in there\"],\n",
    "\"Double Bed\" : [True,\"you find a key\", \"Door C\"],\n",
    "\"Dining Table\" : [False,\"nothing in there\"],\n",
    "\"Piano\" : [True, \"you find a key\",\"Door A\"],\n",
    "\"Queen Bed\" : [True, \"you find a key\", \"Door B\"], \n",
    "\"Dresser\" : [True,\"you find a key in the dresser!\", \"Door D\"]\n",
    "}\n",
    "\n",
    "    \n",
    "gamestatusdeafault = {\n",
    "    \"current_room\": roomsname[0][0],\n",
    "    \"keys_collected\": [],\n",
    "    \"target_room\": \"outside\",\n",
    "    \"open_doors\": []}\n"
   ]
  },
  {
   "cell_type": "code",
   "execution_count": 3,
   "metadata": {
    "scrolled": false
   },
   "outputs": [],
   "source": [
    "#starts games calls playing function for first room\n",
    "def start():\n",
    "    import copy\n",
    "\n",
    "    print (\"You wake up in a room you don't know. \")\n",
    "    gamestatus = copy.deepcopy(gamestatusdeafault)\n",
    "    plays(gamestatus)\n",
    "\n",
    " "
   ]
  },
  {
   "cell_type": "code",
   "execution_count": 4,
   "metadata": {},
   "outputs": [],
   "source": [
    "def plays(gamestatus):\n",
    "#checks if player is in target room\n",
    "    if gamestatus.get(\"current_room\") == gamestatus.get(\"target_room\"):\n",
    "        print(\"congrats\")\n",
    "#if player is in target room resets all variables       \n",
    "        reset()\n",
    "#if player is not in target room go to function to explore room(has to find index of room in roomslist)\n",
    "    else: \n",
    "        explore(gamestatus.get(\"current_room\"),gamestatus)\n",
    "    \n",
    "          \n",
    "      \n",
    "                    \n"
   ]
  },
  {
   "cell_type": "code",
   "execution_count": 5,
   "metadata": {},
   "outputs": [],
   "source": [
    "#finds in what list -index- of roomsname the room is at\n",
    "def find_in_sublists(lst, value):\n",
    "    for sub_i, sublist in enumerate(lst):\n",
    "        try:\n",
    "            return (sub_i)\n",
    "        except ValueError:\n",
    "            pass\n",
    "\n",
    "\n",
    "\n"
   ]
  },
  {
   "cell_type": "code",
   "execution_count": 6,
   "metadata": {},
   "outputs": [],
   "source": [
    "#has to describe objects inside the room, call function to interact and update their status \n",
    "def explore(room,gamestatus):\n",
    "        roomobj = [] \n",
    "        r = index.get(room)\n",
    "        for i in range(len(roomsname[r])-1):\n",
    "            roomobj.append(roomsname[r][i+1])\n",
    "        roomobjs = \" \".join(roomobj)\n",
    "        print (\"You are in the %s which contains %s \" %(room,roomobjs))\n",
    "        interact = str(input(\"Wich object do you want to interact with?\"))\n",
    "#if player interacts with invalid object restarts room      \n",
    "        if interact not in itens.keys() and interact not in doors.keys():\n",
    "            print (\"please type a valid item\")\n",
    "            plays(gamestatus)\n",
    "        elif interact == \"Door A\" or interact == \"Door B\" or interact == \"Door C\" or interact == \"Door D\":\n",
    "            door(interact,gamestatus)\n",
    "# if player interacts with object with key it will add key to inventorie and update object status            \n",
    "        elif itens.get(interact)[0] == True:\n",
    "            print(\"You found a key\")\n",
    "            gamestatus.get(\"keys_collected\").append(itens.get(interact)[2])\n",
    "            itens[interact] = [False,\"You already have the key that used to be here\"]           \n",
    "            plays(gamestatus)\n",
    "#if player interacts with object without key print object phrase and restart room\n",
    "        elif itens.get(interact)[0] == False :\n",
    "            print (itens.get(interact)[1])\n",
    "            plays(gamestatus)\n",
    "#if player interacts with door go to function for door interactions\n",
    "        #door(interact)\n",
    "            "
   ]
  },
  {
   "cell_type": "code",
   "execution_count": 7,
   "metadata": {},
   "outputs": [],
   "source": [
    "def door(door,gamestatus):\n",
    "#if door is open go to function for room change\n",
    "    if doors.get(door)[0] == True:\n",
    "        movement(door,gamestatus)\n",
    "#if door in closed check for key \n",
    "    elif doors.get(door)[0] == False:\n",
    "#if player has key open door and go to function for room change \n",
    "        if door in gamestatus.get(\"keys_collected\"):\n",
    "            print(\"You've opened the door\")\n",
    "            doors.get(door)[0] = True\n",
    "            movement(door,gamestatus)\n",
    "# if player doesn't have key restart room        \n",
    "        else:\n",
    "            print(\"You don't have the required key\")\n",
    "            plays(gamestatus)"
   ]
  },
  {
   "cell_type": "code",
   "execution_count": 8,
   "metadata": {},
   "outputs": [],
   "source": [
    "#Asks for key, opens door, takes to the other room tells if door is locked \n",
    "def movement(door,gamestatus): \n",
    "#checks in wich of the rooms associated with the door player is \n",
    "    if doors.get(door)[1] == gamestatus.get(\"current_room\"):\n",
    "#move player to the room associate with the door that he is not currently\n",
    "        gamestatus[\"current_room\"] =  doors.get(door)[2]\n",
    "    elif doors.get(door)[2] == gamestatus.get(\"current_room\"):\n",
    "        gamestatus[\"current_room\"] =  doors.get(door)[1]\n",
    "\n",
    "    plays(gamestatus)\n"
   ]
  },
  {
   "cell_type": "code",
   "execution_count": 9,
   "metadata": {},
   "outputs": [],
   "source": [
    "#ask if wants to play again put all variables and dictionaries to default\n",
    "def reset ():\n",
    "                 \n",
    "    roomsname = [[\"First room\",\"Couch\", \"Piano\" ,\"Door A\"],\n",
    "                 [\"Second room\",\"Queen Bed\",\"Door A\",\"Door B\",\"Door C\"], \n",
    "                 [\"Third room\",\"Double Bed\", \"Dresser\", \"Door B\"],\n",
    "                 [\"Fourth room\",\"Dining Table\", \"Door C\", \"Door D\"],\n",
    "                 [\"outside\" , \"congrats\"]]\n",
    "\n",
    "    index = {\"First room\": 0,\n",
    "            \"Second room\": 1,\n",
    "            \"Third room\": 2,\n",
    "            \"Fourth room\": 3,\n",
    "            \"outside\": 4}\n",
    "\n",
    "    doors = {\n",
    "    \"Door A\" : [False,roomsname[0][0],roomsname[1][0]],\n",
    "    \"Door B\" : [False,roomsname[1][0],roomsname[2][0]],\n",
    "    \"Door C\" : [False,roomsname[1][0],roomsname[3][0]],\n",
    "    \"Door D\" : [False,roomsname[3][0],roomsname[4][0]]\n",
    "    }\n",
    "\n",
    "\n",
    "    itens= {\n",
    "    \"Couch\" : [False,\"nothing in there\"],\n",
    "    \"Double Bed\" : [True,\"you find a key\", \"Door C\"],\n",
    "    \"Dining Table\" : [False,\"nothing in there\"],\n",
    "    \"Piano\" : [True, \"you find a key\",\"Door A\"],\n",
    "    \"Queen Bed\" : [True, \"you find a key\", \"Door B\"], \n",
    "    \"Dresser\" : [True,\"you find a key in the dresser!\", \"Door D\"]\n",
    "    }\n",
    "    \n",
    "    if str(input(\"Dou you wanna play again?\")) == \"Yes\":\n",
    "        start()\n",
    "    else:\n",
    "        print(\"Thanks for playing\")"
   ]
  },
  {
   "cell_type": "code",
   "execution_count": null,
   "metadata": {},
   "outputs": [
    {
     "name": "stdout",
     "output_type": "stream",
     "text": [
      "start sentence\n",
      "You are in the First room which contains Couch Piano Door A \n",
      "Wich object do you want to interact with?Piano\n",
      "You found a key\n",
      "You are in the First room which contains Couch Piano Door A \n",
      "Wich object do you want to interact with?Door A\n",
      "You've opened the door\n",
      "You are in the Second room which contains Queen Bed Door A Door B Door C \n",
      "Wich object do you want to interact with?Queen Bed\n",
      "You found a key\n",
      "You are in the Second room which contains Queen Bed Door A Door B Door C \n",
      "Wich object do you want to interact with?Door B\n",
      "You've opened the door\n",
      "You are in the Third room which contains Double Bed Dresser Door B \n",
      "Wich object do you want to interact with?Dresser\n",
      "You found a key\n",
      "You are in the Third room which contains Double Bed Dresser Door B \n",
      "Wich object do you want to interact with?\n",
      "please type a valid item\n",
      "You are in the Third room which contains Double Bed Dresser Door B \n",
      "Wich object do you want to interact with?Double Bed\n",
      "You found a key\n",
      "You are in the Third room which contains Double Bed Dresser Door B \n",
      "Wich object do you want to interact with?Door B\n",
      "You are in the Second room which contains Queen Bed Door A Door B Door C \n",
      "Wich object do you want to interact with?Door C\n",
      "You've opened the door\n",
      "You are in the Fourth room which contains Dining Table Door C Door D \n",
      "Wich object do you want to interact with?Door D\n",
      "You've opened the door\n",
      "congrats\n",
      "Dou you wanna play again?Yes\n",
      "start sentence\n",
      "You are in the First room which contains Couch Piano Door A \n"
     ]
    }
   ],
   "source": [
    "start()"
   ]
  },
  {
   "cell_type": "code",
   "execution_count": null,
   "metadata": {},
   "outputs": [],
   "source": [
    "\n"
   ]
  },
  {
   "cell_type": "code",
   "execution_count": null,
   "metadata": {},
   "outputs": [],
   "source": []
  }
 ],
 "metadata": {
  "kernelspec": {
   "display_name": "Python 3",
   "language": "python",
   "name": "python3"
  },
  "language_info": {
   "codemirror_mode": {
    "name": "ipython",
    "version": 3
   },
   "file_extension": ".py",
   "mimetype": "text/x-python",
   "name": "python",
   "nbconvert_exporter": "python",
   "pygments_lexer": "ipython3",
   "version": "3.7.0"
  }
 },
 "nbformat": 4,
 "nbformat_minor": 2
}
