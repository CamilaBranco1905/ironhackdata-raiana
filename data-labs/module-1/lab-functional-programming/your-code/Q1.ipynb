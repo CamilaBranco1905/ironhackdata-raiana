{
 "cells": [
  {
   "cell_type": "markdown",
   "metadata": {},
   "source": [
    "In the cell below, create a Python function that wraps your previous solution for the Bag of Words lab.\n",
    "\n",
    "Requirements:\n",
    "\n",
    "1. Your function should accept the following parameters:\n",
    "    * `docs` [REQUIRED] - array of document paths.\n",
    "    * `stop_words` [OPTIONAL] - array of stop words. The default value is an empty array.\n",
    "\n",
    "1. Your function should return a Python object that contains the following:\n",
    "    * `bag_of_words` - array of strings of normalized unique words in the corpus.\n",
    "    * `term_freq` - array of the term-frequency vectors."
   ]
  },
  {
   "cell_type": "code",
   "execution_count": 24,
   "metadata": {},
   "outputs": [],
   "source": [
    "# Import required libraries\n",
    "# Define function\n",
    "def get_bow_from_docs(docs, stop_words=[]):\n",
    "    corpus = []\n",
    "    for file in docs:\n",
    "        file = open(file, \"r\")\n",
    "        corpus.append(file.read())\n",
    "    corpus_processed =[]\n",
    "    \n",
    "    for strings in corpus:\n",
    "        corpus_processed.append(strings.lower().strip(\".\"))\n",
    "    \n",
    "    bag_of_words = []\n",
    "    for string in corpus_processed:\n",
    "        split = string.split()\n",
    "        if split not in bag_of_words:\n",
    "            bag_of_words.append(split)\n",
    "\n",
    "\n",
    "    bag_of_words_sum = bag_of_words[0] +bag_of_words[1] +bag_of_words[2]\n",
    "    bag_of_words_set = set(bag_of_words_sum)\n",
    "    term_freq = []\n",
    "    \n",
    "    for word in stop_words:\n",
    "        if word in bag_of_words_sum:\n",
    "            bag_of_words_sum.remove(word)\n",
    "    \n",
    "    for num,doc in enumerate(docs):\n",
    "        freq_doc = []\n",
    "        for word in bag_of_words_set:\n",
    "            if str(word) in corpus_processed[num]:\n",
    "                freq_doc.append(1)\n",
    "            else:\n",
    "                freq_doc.append(0)\n",
    "                \n",
    "    term_freq.append(freq_doc)\n",
    "    # In the function, first define the variables you will use such as `corpus`, `bag_of_words`, and `term_freq`.\n",
    "    # Now return your output as an object\n",
    "    return {\n",
    "        \"bag_of_words\": bag_of_words_set,\n",
    "        \"term_freq\": term_freq\n",
    "    }\n",
    "    "
   ]
  },
  {
   "cell_type": "code",
   "execution_count": null,
   "metadata": {},
   "outputs": [],
   "source": []
  },
  {
   "cell_type": "markdown",
   "metadata": {},
   "source": [
    "Test your function without stop words. You should see the output like below:\n",
    "\n",
    "```{'bag_of_words': ['ironhack', 'is', 'cool', 'i', 'love', 'am', 'a', 'student', 'at'], 'term_freq': [[1, 1, 1, 0, 0, 0, 0, 0, 0], [1, 0, 0, 1, 1, 0, 0, 0, 0], [1, 0, 0, 1, 0, 1, 1, 1, 1]]}```"
   ]
  },
  {
   "cell_type": "code",
   "execution_count": 25,
   "metadata": {},
   "outputs": [
    {
     "name": "stdout",
     "output_type": "stream",
     "text": [
      "{'bag_of_words': {'a', 'am', 'is', 'cool', 'i', 'love', 'student', 'ironhack', 'at'}, 'term_freq': [[1, 1, 0, 0, 1, 0, 1, 1, 1]]}\n"
     ]
    }
   ],
   "source": [
    "\n",
    "\n",
    "# Define doc paths array\n",
    "docs = [\"doc1.txt\", \"doc2.txt\", \"doc3.txt\"]\n",
    "\n",
    "# Obtain BoW from your function\n",
    "bow = get_bow_from_docs(docs)\n",
    "\n",
    "# Print BoW\n",
    "print(bow)"
   ]
  },
  {
   "cell_type": "markdown",
   "metadata": {},
   "source": [
    "If your attempt above is successful, nice work done!\n",
    "\n",
    "Now test your function again with the stop words. In the previous lab we defined the stop words in a large array. In this lab, we'll import the stop words from Scikit-Learn."
   ]
  },
  {
   "cell_type": "code",
   "execution_count": 26,
   "metadata": {},
   "outputs": [
    {
     "name": "stdout",
     "output_type": "stream",
     "text": [
      "frozenset({'above', 'hereby', 'further', 'became', 'more', 'hereafter', 'not', 'much', 'own', 'move', 'too', 'namely', 'formerly', 'moreover', 'empty', 'yourselves', 'himself', 'however', 'thus', 'beyond', 'none', 'fifteen', 'of', 'five', 'you', 'few', 'here', 'again', 'i', 'nowhere', 'through', 'why', 'eight', 'whenever', 'ie', 'first', 'every', 'show', 'because', 'somewhere', 'seemed', 'such', 'well', 'these', 'ourselves', 'up', 'at', 'where', 'its', 'others', 'a', 'rather', 'enough', 'thereby', 'while', 'seem', 'nevertheless', 're', 'our', 'during', 'is', 'everywhere', 'neither', 'will', 'if', 'yourself', 'go', 'itself', 'sometime', 'must', 'what', 'against', 'over', 'becoming', 'whereby', 'it', 'seeming', 'besides', 'nothing', 'latterly', 'no', 'thereafter', 'never', 'everyone', 'towards', 'whereafter', 'side', 'into', 'mine', 'since', 'hers', 'nine', 'else', 'may', 'anything', 'bottom', 'around', 'been', 'four', 'within', 'had', 'ours', 'by', 'mostly', 'de', 'her', 'until', 'has', 'several', 'except', 'any', 'each', 'system', 'now', 'thin', 'as', 'before', 'least', 'eleven', 'wherein', 'whose', 'onto', 'name', 'we', 'back', 'yours', 'front', 'three', 'etc', 'am', 'see', 'either', 'less', 'yet', 'last', 'thence', 'from', 'once', 'have', 'take', 'us', 'together', 'or', 'anywhere', 'his', 'some', 'they', 'un', 'fire', 'thereupon', 'inc', 'per', 'who', 'throughout', 'sincere', 'otherwise', 'also', 'everything', 'hundred', 'can', 'be', 'perhaps', 'whatever', 'becomes', 'about', 'down', 'noone', 'twenty', 'one', 'upon', 'ever', 'along', 'fifty', 'that', 'often', 'among', 'done', 'mill', 'someone', 'amoungst', 'find', 'former', 'keep', 'across', 'are', 'under', 'toward', 'might', 'due', 'very', 'whither', 'call', 'get', 'were', 'another', 'detail', 'anyway', 'sometimes', 'please', 'though', 'both', 'two', 'eg', 'thick', 'bill', 'when', 'me', 'herein', 'full', 'should', 'would', 'latter', 'in', 'but', 'nobody', 'therefore', 'elsewhere', 'part', 'sixty', 'with', 'found', 'all', 'many', 'there', 'couldnt', 'he', 'always', 'below', 'could', 'them', 'thru', 'your', 'then', 'alone', 'than', 'behind', 'was', 'seems', 'fill', 'therein', 'my', 'whole', 'whoever', 'him', 'whom', 'cannot', 'whether', 'almost', 'their', 'third', 'do', 'cry', 'put', 'afterwards', 'amongst', 'off', 'cant', 'for', 'on', 'most', 'via', 'anyone', 'those', 'whence', 'hereupon', 'other', 'interest', 'hasnt', 'indeed', 'even', 'become', 'made', 'whereas', 'twelve', 'top', 'give', 'only', 'forty', 'six', 'nor', 'myself', 'beforehand', 'she', 'the', 'whereupon', 'con', 'and', 'already', 'something', 'out', 'somehow', 'co', 'ten', 'how', 'same', 'although', 'describe', 'themselves', 'without', 'still', 'between', 'this', 'amount', 'after', 'an', 'serious', 'which', 'being', 'to', 'so', 'anyhow', 'meanwhile', 'beside', 'hence', 'wherever', 'next', 'ltd', 'herself'})\n"
     ]
    }
   ],
   "source": [
    "from sklearn.feature_extraction import stop_words\n",
    "print(stop_words.ENGLISH_STOP_WORDS)"
   ]
  },
  {
   "cell_type": "markdown",
   "metadata": {},
   "source": [
    "You should have seen a large list of words that looks like:\n",
    "\n",
    "```frozenset({'across', 'mine', 'cannot', ...})```\n",
    "\n",
    "`frozenset` is a type of Python object that is immutable. In this lab you can use it just like an array without conversion."
   ]
  },
  {
   "cell_type": "markdown",
   "metadata": {},
   "source": [
    "Next, test your function with supplying `stop_words.ENGLISH_STOP_WORDS` as the second parameter."
   ]
  },
  {
   "cell_type": "code",
   "execution_count": 27,
   "metadata": {},
   "outputs": [
    {
     "name": "stdout",
     "output_type": "stream",
     "text": [
      "{'bag_of_words': {'a', 'am', 'is', 'cool', 'i', 'love', 'student', 'ironhack', 'at'}, 'term_freq': [[1, 1, 0, 0, 1, 0, 1, 1, 1]]}\n"
     ]
    }
   ],
   "source": [
    "bow = get_bow_from_docs(docs, stop_words.ENGLISH_STOP_WORDS)\n",
    "\n",
    "print(bow)"
   ]
  },
  {
   "cell_type": "markdown",
   "metadata": {},
   "source": [
    "You should have seen:\n",
    "\n",
    "```{'bag_of_words': ['ironhack', 'cool', 'love', 'student'], 'term_freq': [[1, 1, 0, 0], [1, 0, 1, 0], [1, 0, 0, 1]]}```"
   ]
  },
  {
   "cell_type": "code",
   "execution_count": null,
   "metadata": {},
   "outputs": [],
   "source": []
  },
  {
   "cell_type": "code",
   "execution_count": null,
   "metadata": {},
   "outputs": [],
   "source": []
  }
 ],
 "metadata": {
  "kernelspec": {
   "display_name": "Python 3",
   "language": "python",
   "name": "python3"
  },
  "language_info": {
   "codemirror_mode": {
    "name": "ipython",
    "version": 3
   },
   "file_extension": ".py",
   "mimetype": "text/x-python",
   "name": "python",
   "nbconvert_exporter": "python",
   "pygments_lexer": "ipython3",
   "version": "3.7.0"
  }
 },
 "nbformat": 4,
 "nbformat_minor": 2
}
